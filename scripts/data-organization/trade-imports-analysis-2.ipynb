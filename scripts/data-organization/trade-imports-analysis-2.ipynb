{
 "cells": [
  {
   "cell_type": "code",
   "execution_count": 1,
   "metadata": {},
   "outputs": [
    {
     "data": {
      "text/html": [
       "<div>\n",
       "<style scoped>\n",
       "    .dataframe tbody tr th:only-of-type {\n",
       "        vertical-align: middle;\n",
       "    }\n",
       "\n",
       "    .dataframe tbody tr th {\n",
       "        vertical-align: top;\n",
       "    }\n",
       "\n",
       "    .dataframe thead th {\n",
       "        text-align: right;\n",
       "    }\n",
       "</style>\n",
       "<table border=\"1\" class=\"dataframe\">\n",
       "  <thead>\n",
       "    <tr style=\"text-align: right;\">\n",
       "      <th></th>\n",
       "      <th>Index</th>\n",
       "      <th>to_country</th>\n",
       "      <th>from_country</th>\n",
       "      <th>Item</th>\n",
       "      <th>Year</th>\n",
       "      <th>Quantity</th>\n",
       "      <th>Unit</th>\n",
       "      <th>Coordinates</th>\n",
       "    </tr>\n",
       "  </thead>\n",
       "  <tbody>\n",
       "    <tr>\n",
       "      <th>290914</th>\n",
       "      <td>411158</td>\n",
       "      <td>Sweden</td>\n",
       "      <td>China, mainland</td>\n",
       "      <td>Food wastes</td>\n",
       "      <td>2016</td>\n",
       "      <td>2</td>\n",
       "      <td>Tonnes</td>\n",
       "      <td>{'to_country': [18.643501, 60.128161], 'from_c...</td>\n",
       "    </tr>\n",
       "    <tr>\n",
       "      <th>56124</th>\n",
       "      <td>80778</td>\n",
       "      <td>China, Hong Kong SAR</td>\n",
       "      <td>Japan</td>\n",
       "      <td>Bread</td>\n",
       "      <td>2016</td>\n",
       "      <td>344</td>\n",
       "      <td>Tonnes</td>\n",
       "      <td>{'to_country': [114.10949699999999, 22.396428]...</td>\n",
       "    </tr>\n",
       "    <tr>\n",
       "      <th>268194</th>\n",
       "      <td>377000</td>\n",
       "      <td>Sierra Leone</td>\n",
       "      <td>France</td>\n",
       "      <td>Milk, whole fresh cow</td>\n",
       "      <td>2016</td>\n",
       "      <td>14</td>\n",
       "      <td>Tonnes</td>\n",
       "      <td>{'to_country': [-11.779889, 8.460555000000001]...</td>\n",
       "    </tr>\n",
       "    <tr>\n",
       "      <th>164605</th>\n",
       "      <td>227854</td>\n",
       "      <td>Kazakhstan</td>\n",
       "      <td>Turkmenistan</td>\n",
       "      <td>Onions, dry</td>\n",
       "      <td>2016</td>\n",
       "      <td>208</td>\n",
       "      <td>Tonnes</td>\n",
       "      <td>{'to_country': [66.923684, 48.019573], 'from_c...</td>\n",
       "    </tr>\n",
       "    <tr>\n",
       "      <th>208998</th>\n",
       "      <td>292761</td>\n",
       "      <td>Netherlands</td>\n",
       "      <td>Slovenia</td>\n",
       "      <td>Apples</td>\n",
       "      <td>2016</td>\n",
       "      <td>1</td>\n",
       "      <td>Tonnes</td>\n",
       "      <td>{'to_country': [5.291266, 52.132633], 'from_co...</td>\n",
       "    </tr>\n",
       "  </tbody>\n",
       "</table>\n",
       "</div>"
      ],
      "text/plain": [
       "         Index            to_country     from_country                   Item  \\\n",
       "290914  411158                Sweden  China, mainland            Food wastes   \n",
       "56124    80778  China, Hong Kong SAR            Japan                  Bread   \n",
       "268194  377000          Sierra Leone           France  Milk, whole fresh cow   \n",
       "164605  227854            Kazakhstan     Turkmenistan            Onions, dry   \n",
       "208998  292761           Netherlands         Slovenia                 Apples   \n",
       "\n",
       "        Year  Quantity    Unit  \\\n",
       "290914  2016         2  Tonnes   \n",
       "56124   2016       344  Tonnes   \n",
       "268194  2016        14  Tonnes   \n",
       "164605  2016       208  Tonnes   \n",
       "208998  2016         1  Tonnes   \n",
       "\n",
       "                                              Coordinates  \n",
       "290914  {'to_country': [18.643501, 60.128161], 'from_c...  \n",
       "56124   {'to_country': [114.10949699999999, 22.396428]...  \n",
       "268194  {'to_country': [-11.779889, 8.460555000000001]...  \n",
       "164605  {'to_country': [66.923684, 48.019573], 'from_c...  \n",
       "208998  {'to_country': [5.291266, 52.132633], 'from_co...  "
      ]
     },
     "execution_count": 1,
     "metadata": {},
     "output_type": "execute_result"
    }
   ],
   "source": [
    "import pandas as pd\n",
    "import numpy as np\n",
    "import json\n",
    "from tqdm.auto import tqdm\n",
    "    \n",
    "df = pd.read_csv(\"../../data/trade_imports.csv\")\n",
    "df.drop(columns=[\"Unnamed: 0\"], inplace=True)\n",
    "df.sample(n=5)"
   ]
  },
  {
   "cell_type": "code",
   "execution_count": 2,
   "metadata": {},
   "outputs": [],
   "source": [
    "# calculate the set of available countries\n",
    "countrySet = sorted(set(df[\"to_country\"]))\n",
    "\n",
    "# get the set of produce used in the previous visualizations\n",
    "previousDf = pd.read_csv(\"../../data/imp_exp_prod_flat_all.csv\")\n",
    "previousProduceSet = sorted(set(previousDf[\"Item\"]))"
   ]
  },
  {
   "cell_type": "code",
   "execution_count": 3,
   "metadata": {},
   "outputs": [
    {
     "name": "stderr",
     "output_type": "stream",
     "text": [
      "c:\\users\\roshini\\appdata\\local\\programs\\python\\python37-32\\lib\\site-packages\\tqdm\\_tqdm.py:603: FutureWarning: The Panel class is removed from pandas. Accessing it from the top-level namespace will also be removed in the next version\n",
      "  from pandas import Panel\n"
     ]
    },
    {
     "data": {
      "application/vnd.jupyter.widget-view+json": {
       "model_id": "6229f6e6cc274d2b9fe36ef5f34668cc",
       "version_major": 2,
       "version_minor": 0
      },
      "text/plain": [
       "HBox(children=(IntProgress(value=0, max=174), HTML(value='')))"
      ]
     },
     "metadata": {},
     "output_type": "display_data"
    },
    {
     "name": "stdout",
     "output_type": "stream",
     "text": [
      "\n"
     ]
    }
   ],
   "source": [
    "def to_dictionary(row):\n",
    "    dictionary = row.to_dict()\n",
    "    dictionary[\"Coordinates\"] = eval(dictionary[\"Coordinates\"])\n",
    "    return dictionary\n",
    "    \n",
    "# create an object containing all relevant data + top 10 countries that each country imports stuff from\n",
    "importObject = {}\n",
    "importObject[\"countries\"] = countrySet\n",
    "\n",
    "tqdm.pandas()\n",
    "for country in tqdm(countrySet):\n",
    "    countryObject = importObject[country] = {}\n",
    "\n",
    "    # record the real top 10 countries (even if their goods were not in the previous visualizations)\n",
    "    selected = df[df[\"to_country\"] == country]\n",
    "    countryObject[\"all_goods\"] = list(selected.nlargest(10, \"Quantity\").apply(to_dictionary, axis=1))\n",
    "    \n",
    "    # then, only record top 10 countries whose crops/goods were part of the previous visualizations\n",
    "    selected = selected[(selected[\"Item\"]).isin(previousProduceSet)]\n",
    "    countryObject[\"previous_goods_only\"] = list(selected.nlargest(10, \"Quantity\").apply(to_dictionary, axis=1))"
   ]
  },
  {
   "cell_type": "code",
   "execution_count": 4,
   "metadata": {},
   "outputs": [],
   "source": [
    "json.dump(importObject, open(\"../../data/trade_top_imports.json\", \"w\"))"
   ]
  },
  {
   "cell_type": "code",
   "execution_count": null,
   "metadata": {},
   "outputs": [],
   "source": []
  }
 ],
 "metadata": {
  "kernelspec": {
   "display_name": "Python 3",
   "language": "python",
   "name": "python3"
  },
  "language_info": {
   "codemirror_mode": {
    "name": "ipython",
    "version": 3
   },
   "file_extension": ".py",
   "mimetype": "text/x-python",
   "name": "python",
   "nbconvert_exporter": "python",
   "pygments_lexer": "ipython3",
   "version": "3.7.4"
  }
 },
 "nbformat": 4,
 "nbformat_minor": 2
}
