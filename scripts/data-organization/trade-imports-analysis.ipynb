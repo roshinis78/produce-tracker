{
 "cells": [
  {
   "cell_type": "code",
   "execution_count": 1,
   "metadata": {
    "scrolled": true
   },
   "outputs": [],
   "source": [
    "import pandas as pd\n",
    "import numpy as np\n",
    "import json\n",
    "from tqdm.auto import tqdm # progress bar\n",
    "\n",
    "df = pd.read_csv(\"../../data/Imp_trade_2016.csv\")\n",
    "\n",
    "# select relevant columns and filter columns that actually represent movement of goods\n",
    "df = df[[\"Index\", \"Reporter.Countries\", \"Partner.Countries\", \"Item\", \"Year\", \"1000 Head\", \"Head\", \"tonnes\"]]\n",
    "df = df[(df[\"1000 Head\"] != 0) | (df[\"Head\"] != 0) | (df[\"tonnes\"] != 0)]\n",
    "\n",
    "# rename the columns for better understanding\n",
    "df.rename(columns={\"Reporter.Countries\": \"to_country\", \"Partner.Countries\": \"from_country\"}, inplace=True)\n",
    "\n",
    "# delete rows that do not specify the from country\n",
    "df.drop((df[df[\"from_country\"] == \"Unspecified Area\"]).index, inplace=True)\n",
    "\n",
    "# switch some country names so they match country centroids data\n",
    "country_centroids = pd.read_csv(\"../../data/country_centroids.csv\")\n",
    "country_centroids.replace(to_replace={\n",
    "    \"Saint Helena\": \"Saint Helena, Ascension and Tristan da Cunha\",\n",
    "    \"Palestinian Territories\": \"Occupied Palestinian Territory\",\n",
    "    \"Vatican City\": \"Holy See\",\n",
    "    \"Cocos [Keeling] Islands\": \"Cocos (Keeling) Islands\",\n",
    "    \"Falkland Islands [Islas Malvinas]\": \"Falkland Islands (Malvinas)\",\n",
    "    \"Micronesia\": \"Micronesia (Federated States of)\",\n",
    "    \"French Southern Territories\": \"French Southern and Antarctic Territories\",\n",
    "    \"Netherlands Antilles\": \"Netherlands Antilles (former)\"\n",
    "}, value=None, inplace=True)"
   ]
  },
  {
   "cell_type": "code",
   "execution_count": 2,
   "metadata": {},
   "outputs": [
    {
     "name": "stderr",
     "output_type": "stream",
     "text": [
      "c:\\users\\roshini\\appdata\\local\\programs\\python\\python37-32\\lib\\site-packages\\tqdm\\_tqdm.py:603: FutureWarning: The Panel class is removed from pandas. Accessing it from the top-level namespace will also be removed in the next version\n",
      "  from pandas import Panel\n"
     ]
    },
    {
     "data": {
      "application/vnd.jupyter.widget-view+json": {
       "model_id": "a2874d62b1f648fab1dacbaaa76176d9",
       "version_major": 2,
       "version_minor": 0
      },
      "text/plain": [
       "HBox(children=(IntProgress(value=0, max=340432), HTML(value='')))"
      ]
     },
     "metadata": {},
     "output_type": "display_data"
    },
    {
     "name": "stdout",
     "output_type": "stream",
     "text": [
      "\n"
     ]
    }
   ],
   "source": [
    "def getQuantityUnitsAndGeoCoordinates(row):\n",
    "    # clean up the quantity and units measures \n",
    "    if row[\"1000 Head\"] != 0:\n",
    "        info_list = [row[\"1000 Head\"] * 1000, \"Heads\"]\n",
    "    elif row[\"Head\"] != 0:\n",
    "        info_list = [row[\"Head\"], \"Heads\"]\n",
    "    else:\n",
    "        info_list = [row[\"tonnes\"], \"Tonnes\"]\n",
    "        \n",
    "    # add the longitude and latitude of each country\n",
    "    to_country_coordinates = country_centroids[country_centroids[\"name\"] == row[\"to_country\"]]\n",
    "    from_country_coordinates = country_centroids[country_centroids[\"name\"] == row[\"from_country\"]] \n",
    "    if to_country_coordinates.size == 0:\n",
    "        print(\"MISSING IN COUNTRY CENTROIDS CSV: \" + row[\"to_country\"])\n",
    "    elif from_country_coordinates.size == 0:\n",
    "        print(\"MISSING IN COUNTRY CENTROIDS CSV: \" + row[\"from_country\"])\n",
    "    else:\n",
    "        info_list.append({\n",
    "            \"to_country\": [float(to_country_coordinates[\"longitude\"]), float(to_country_coordinates[\"latitude\"])],\n",
    "            \"from_country\": [float(from_country_coordinates[\"longitude\"]), float(from_country_coordinates[\"latitude\"])]\n",
    "        })\n",
    "\n",
    "    return info_list\n",
    "\n",
    "tqdm.pandas()\n",
    "df[[\"Quantity\", \"Unit\", \"Coordinates\"]] = df.progress_apply(getQuantityUnitsAndGeoCoordinates, axis=1, result_type=\"expand\")"
   ]
  },
  {
   "cell_type": "code",
   "execution_count": 11,
   "metadata": {},
   "outputs": [],
   "source": [
    "# drop the now unneeded columns of 1000 Head, Head and tonnes\n",
    "# df.drop(columns=[\"1000 Head\", \"Head\", \"tonnes\"], inplace=True)"
   ]
  },
  {
   "cell_type": "code",
   "execution_count": 13,
   "metadata": {},
   "outputs": [],
   "source": [
    "df.to_csv(\"../../data/trade_imports.csv\")"
   ]
  },
  {
   "cell_type": "code",
   "execution_count": null,
   "metadata": {},
   "outputs": [],
   "source": []
  }
 ],
 "metadata": {
  "kernelspec": {
   "display_name": "Python 3",
   "language": "python",
   "name": "python3"
  },
  "language_info": {
   "codemirror_mode": {
    "name": "ipython",
    "version": 3
   },
   "file_extension": ".py",
   "mimetype": "text/x-python",
   "name": "python",
   "nbconvert_exporter": "python",
   "pygments_lexer": "ipython3",
   "version": "3.7.4"
  }
 },
 "nbformat": 4,
 "nbformat_minor": 2
}
